{
 "cells": [
  {
   "cell_type": "code",
   "execution_count": 1,
   "id": "57c07fd8",
   "metadata": {},
   "outputs": [],
   "source": [
    "import numpy\n",
    "import matplotlib.pyplot as plt"
   ]
  },
  {
   "cell_type": "markdown",
   "id": "05abeeb5",
   "metadata": {},
   "source": [
    "# the effects of model misfit on model training"
   ]
  },
  {
   "cell_type": "code",
   "execution_count": 2,
   "id": "e7be5c74",
   "metadata": {},
   "outputs": [],
   "source": [
    "# QUADRATIC SAMPLE POINTS\n",
    "def quadratic_generator(point_number=100, alpha=1, beta=1, bias=0):\n",
    "    x = numpy.random.randint(-100, 100, point_number)\n",
    "    y = []\n",
    "    for xi in x:\n",
    "        y.append(alpha*xi**2+beta*xi+bias)\n",
    "    return x, y"
   ]
  },
  {
   "cell_type": "code",
   "execution_count": 3,
   "id": "f89da5c2",
   "metadata": {},
   "outputs": [],
   "source": [
    "# UPDATE THE VALUE OF W AND BIAS\n",
    "def update(x, y, w, b, eta):\n",
    "    ud_w = 0\n",
    "    ud_b = 0\n",
    "    for i in range(len(x)):\n",
    "        ud_w += x[i]*(y[i]-w*x[i]-b)/len(x)\n",
    "        ud_b += (y[i]-w*x[i]-b)/len(x)\n",
    "    return w+eta*ud_w, b+eta*ud_b\n",
    "\n",
    "def loss(y, pred):\n",
    "    loss = 0\n",
    "    for i in range(len(y)):\n",
    "        loss += (y[i]-pred[i])**2\n",
    "    return loss"
   ]
  },
  {
   "cell_type": "code",
   "execution_count": 5,
   "id": "42c436ae",
   "metadata": {},
   "outputs": [
    {
     "data": {
      "image/png": "[encoded data removed]",
      "text/plain": [
       "<Figure size 432x288 with 1 Axes>"
      ]
     },
     "metadata": {
      "needs_background": "light"
     },
     "output_type": "display_data"
    }
   ],
   "source": [
    "def model_misfit(w=0, bias=0, eta=0.00001, iteration_time=1000, alpha=1, beta=1, b=0):\n",
    "    # GENERATE DATA POINTS\n",
    "    data_x, data_y = quadratic_generator(alpha=alpha, beta=beta, bias=b)\n",
    "\n",
    "    # FIT THE MODEL\n",
    "    for i in range(iteration_time):\n",
    "        w, bias = update(data_x, data_y, w, bias, eta)\n",
    "\n",
    "    # MAKE PREDICTIONS\n",
    "    pred = []\n",
    "    for xi in data_x:\n",
    "        pred.append(w * xi + bias)\n",
    "\n",
    "    # PLOT THE FINAL RESULT\n",
    "    plt.figure()\n",
    "    plt.title(\"After 1000 Iterations\")\n",
    "    plt.xlabel(\"x\")\n",
    "    plt.ylabel(\"y\")\n",
    "    plt.scatter(data_x, data_y)\n",
    "    plt.plot(data_x, pred, c=\"r\")\n",
    "    plt.show()\n",
    "model_misfit()"
   ]
  },
  {
   "cell_type": "markdown",
   "id": "43be6eed",
   "metadata": {},
   "source": [
    "# the effects of different outlier rate"
   ]
  },
  {
   "cell_type": "code",
   "execution_count": 7,
   "id": "4aac0333",
   "metadata": {},
   "outputs": [],
   "source": [
    "# DATA POINTS WITH OUTLIERS\n",
    "def sample_with_outliers(point_number=100, w=1, b=1, outlier_rate=0.05):\n",
    "    x = numpy.random.randint(-100, 100, point_number)\n",
    "    outlier_number = int(point_number*outlier_rate)\n",
    "    y = []\n",
    "\n",
    "    # INLIERS\n",
    "    for i in range(len(x)-outlier_number):\n",
    "        y.append(w*x[i]+b)\n",
    "\n",
    "    # OUTLIERS\n",
    "    for i in range(outlier_number):\n",
    "        y.append(numpy.random.randint(-100, 100))\n",
    "    return x, y"
   ]
  },
  {
   "cell_type": "code",
   "execution_count": 12,
   "id": "b68e6b98",
   "metadata": {},
   "outputs": [
    {
     "data": {
      "image/png": "[encoded data removed]",
      "text/plain": [
       "<Figure size 432x288 with 1 Axes>"
      ]
     },
     "metadata": {
      "needs_background": "light"
     },
     "output_type": "display_data"
    }
   ],
   "source": [
    "def model_outliers(w=0, bias=0, eta=0.00001, point_number=100, outlier_rate=0.05, iteration_time=1000):\n",
    "    # GENERATE DATA POINTS\n",
    "    data_x, data_y = sample_with_outliers(point_number=point_number, w=w, b=bias, outlier_rate=outlier_rate)\n",
    "\n",
    "    # FIT THE MODEL\n",
    "    for i in range(iteration_time):\n",
    "        w, bias = update(data_x, data_y, w, bias, eta)\n",
    "\n",
    "    # MAKE PREDICTIONS\n",
    "    pred = []\n",
    "    for xi in data_x:\n",
    "        pred.append(w * xi + bias)\n",
    "\n",
    "    # PLOT THE FINAL RESULT\n",
    "    plt.figure()\n",
    "    plt.title(\"After 1000 Iterations\")\n",
    "    plt.xlabel(\"x\")\n",
    "    plt.ylabel(\"y\")\n",
    "    plt.scatter(data_x, data_y)\n",
    "    plt.plot(data_x, pred, c=\"r\")\n",
    "    plt.show()\n",
    "model_outliers()"
   ]
  },
  {
   "cell_type": "code",
   "execution_count": null,
   "id": "c70a1822",
   "metadata": {},
   "outputs": [],
   "source": []
  }
 ],
 "metadata": {
  "kernelspec": {
   "display_name": "Python 3",
   "language": "python",
   "name": "python3"
  },
  "language_info": {
   "codemirror_mode": {
    "name": "ipython",
    "version": 3
   },
   "file_extension": ".py",
   "mimetype": "text/x-python",
   "name": "python",
   "nbconvert_exporter": "python",
   "pygments_lexer": "ipython3",
   "version": "3.8.8"
  }
 },
 "nbformat": 4,
 "nbformat_minor": 5
}
